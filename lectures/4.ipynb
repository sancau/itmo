{
 "cells": [
  {
   "cell_type": "markdown",
   "metadata": {},
   "source": [
    "# set / frozenset"
   ]
  },
  {
   "cell_type": "code",
   "execution_count": null,
   "metadata": {
    "collapsed": false
   },
   "outputs": [],
   "source": [
    "a = {2, 4}\n",
    "b = {1, 2, 3, 4}\n",
    "s = set()"
   ]
  },
  {
   "cell_type": "code",
   "execution_count": null,
   "metadata": {
    "collapsed": false
   },
   "outputs": [],
   "source": [
    "a.issubset(b), a.issuperset(b), b.issuperset(a)"
   ]
  },
  {
   "cell_type": "code",
   "execution_count": null,
   "metadata": {
    "collapsed": false
   },
   "outputs": [],
   "source": [
    "a.union(b), b.difference(a)"
   ]
  },
  {
   "cell_type": "code",
   "execution_count": null,
   "metadata": {
    "collapsed": false
   },
   "outputs": [],
   "source": [
    "a = frozenset([1, 2])\n",
    "d = {}\n",
    "d[a] = 'frozenset'  # can use frozenset as a dic key\n",
    "d"
   ]
  },
  {
   "cell_type": "code",
   "execution_count": null,
   "metadata": {
    "collapsed": false
   },
   "outputs": [],
   "source": [
    "s = {1, 2, 3}\n",
    "s.add(4)\n",
    "s"
   ]
  },
  {
   "cell_type": "markdown",
   "metadata": {},
   "source": [
    "# decorator example"
   ]
  },
  {
   "cell_type": "code",
   "execution_count": null,
   "metadata": {
    "collapsed": false
   },
   "outputs": [],
   "source": [
    "import functools\n",
    "\n",
    "def decorator(foo):\n",
    "    @functools.wraps(foo)\n",
    "    def decorated(*args, **kwargs):\n",
    "        print('Decorated')\n",
    "        foo(*args, **kwargs)\n",
    "    return decorated\n",
    "\n",
    "@decorator\n",
    "def foo(v):\n",
    "    print(v)"
   ]
  },
  {
   "cell_type": "markdown",
   "metadata": {},
   "source": [
    "# required kwarg"
   ]
  },
  {
   "cell_type": "code",
   "execution_count": null,
   "metadata": {
    "collapsed": false
   },
   "outputs": [],
   "source": [
    "def foo(arg1, arg2, *, required_kwarg):\n",
    "    pass"
   ]
  },
  {
   "cell_type": "markdown",
   "metadata": {},
   "source": [
    "# calculator"
   ]
  },
  {
   "cell_type": "code",
   "execution_count": null,
   "metadata": {
    "collapsed": false
   },
   "outputs": [],
   "source": [
    "from collections import namedtuple\n",
    "\n",
    "Expression = namedtuple('Expression', ['arg1', 'operator', 'arg2'])\n",
    "\n",
    "COMMANDS = {\n",
    "    '+': lambda x, y: x + y,\n",
    "    '-': lambda x, y: x - y,\n",
    "    '*': lambda x, y: x * y,\n",
    "    '/': lambda x, y: x / y,\n",
    "}\n",
    "\n",
    "def handle():\n",
    "    user_input = input(\n",
    "        'Expession format: {arg1} {operator} {arg2}. \\n' +\n",
    "        'Available operators: +, -, /, * \\n\\n')\n",
    "    \n",
    "    if user_input == 'q': return\n",
    "    \n",
    "    arg1, operator, arg2 = user_input.split()\n",
    "    ex = Expression(arg1, operator, arg2)\n",
    "    result = COMMANDS[ex.operator](float(ex.arg1), float(ex.arg2))\n",
    "    print('_'*20)\n",
    "    print(result)\n",
    "    print('_'*20)\n",
    "    handle()\n",
    "    \n",
    "handle()\n"
   ]
  },
  {
   "cell_type": "markdown",
   "metadata": {},
   "source": [
    "# callback example"
   ]
  },
  {
   "cell_type": "code",
   "execution_count": null,
   "metadata": {
    "collapsed": false
   },
   "outputs": [],
   "source": [
    "def print_all(l):\n",
    "    print(l)\n",
    "    \n",
    "    \n",
    "def print_elements(l):\n",
    "    for i in l:\n",
    "        print(i)\n",
    "    \n",
    "    \n",
    "def foo(x, callback):\n",
    "    xs = [i for i in range(x)]\n",
    "    callback(xs)\n",
    "    return 'foo is done \\n'\n",
    "\n",
    "print( foo(10, print_all) )\n",
    "print( foo(10, print_elements) )"
   ]
  },
  {
   "cell_type": "code",
   "execution_count": null,
   "metadata": {
    "collapsed": false
   },
   "outputs": [],
   "source": [
    "def add_one(*args, **kwargs):\n",
    "    print(kwargs)  # kwargs is dict\n",
    "    return [arg + 1 for arg in args]  # args is tutle\n",
    "\n",
    "add_one(0, 1, 2, 3, 4, 5, 6, 7, 8, 9, 10, key=1, value=2)"
   ]
  },
  {
   "cell_type": "markdown",
   "metadata": {},
   "source": [
    "\n",
    "# ex. 1"
   ]
  },
  {
   "cell_type": "code",
   "execution_count": 6,
   "metadata": {
    "collapsed": false
   },
   "outputs": [],
   "source": [
    "from random import randint\n",
    "\n",
    "def print_field(field):\n",
    "    print('-'*40)\n",
    "    for line in field:\n",
    "        print(line)\n",
    "    print('-'*40)\n",
    "    \n",
    "def ai_move(field, symbol):\n",
    "    x, y = randint(0, 2), randint(0, 2)\n",
    "    if field[x][y] != ' ':\n",
    "        ai_move(field, symbol)\n",
    "    else:\n",
    "        field[x][y] = symbol\n",
    "\n",
    "def get_user_symbol():\n",
    "    symbol = input('Choose symbol {X or 0}: ')\n",
    "    if symbol in ['0', 'X']:\n",
    "        return symbol\n",
    "    else:\n",
    "        print('Invalid input. Enter again. \\n')\n",
    "        symbol = get_user_symbol()\n",
    "        return symbol\n",
    "        \n",
    "    \n",
    "def get_user_move():\n",
    "    x, y = \\\n",
    "        input('Enter in format {x (from 1 to 3)} {y (from 1 to 3)}: ').split()\n",
    "        \n",
    "    if x.isdigit() and y.isdigit() and 0 < int(x) < 4 and 0 < int(y) < 4:\n",
    "        return int(x) - 1, int(y) - 1\n",
    "    else:\n",
    "        print('Invalid input. Enter again. \\n')\n",
    "        get_user_move()\n",
    "        \n",
    "        \n",
    "def is_game_over(field, user_symbol, ai_symbol):\n",
    "    PLAYERS = {\n",
    "        user_symbol: 'Player',\n",
    "        ai_symbol: 'Computer'\n",
    "    }\n",
    "    \n",
    "    print(PLAYERS)\n",
    "    \n",
    "    def get_diags():\n",
    "        diag_one = [field[i][i] for i in range(len(field))]\n",
    "        \n",
    "        diag_two = []\n",
    "        l = len(field) - 1\n",
    "        i = l\n",
    "        k = 0\n",
    "        while i >= 0:\n",
    "            diag_two.append(field[i][k])\n",
    "            i -= 1\n",
    "            k += 1\n",
    "        return [diag_one, diag_two]\n",
    "\n",
    "    def get_verticals():\n",
    "        return [[field[k][i] for k in range(len(field))] \\\n",
    "                     for i in range(len(field))]\n",
    "        \n",
    "        \n",
    "    def get_horizontals():\n",
    "        return [[field[i][k] for k in range(len(field))] \\\n",
    "                     for i in range(len(field))]\n",
    "        \n",
    "    lists = get_diags() + get_verticals() + get_horizontals()\n",
    "    sets = (set(l) for l in lists)\n",
    "    \n",
    "    for s in sets:\n",
    "        if s == {'X'}:\n",
    "            print('{} wins'.format(PLAYERS['X']))\n",
    "            return True\n",
    "        elif s == {'0'}:\n",
    "            print('{} wins'.format(PLAYERS['0']))\n",
    "            return True\n",
    "        \n",
    "    print('Go on..')\n",
    "    return False\n"
   ]
  },
  {
   "cell_type": "code",
   "execution_count": 7,
   "metadata": {
    "collapsed": false
   },
   "outputs": [],
   "source": [
    "def game(field):\n",
    "    initial_field = [elem[:] for elem in field]\n",
    "    user_symbol = get_user_symbol()\n",
    "    ai_symbol = '0' if user_symbol == 'X' else 'X'\n",
    "    game_over = False\n",
    "    while not game_over:\n",
    "        print_field(field)\n",
    "        x, y = get_user_move()\n",
    "        field[y][x] = user_symbol\n",
    "        ai_move(field, ai_symbol)\n",
    "        game_over = is_game_over(field, user_symbol, ai_symbol)\n",
    "    else:\n",
    "        print_field(field)\n",
    "        print('-'*40)\n",
    "        print('RESTARTING..')\n",
    "        game(initial_field)\n",
    "        "
   ]
  },
  {
   "cell_type": "code",
   "execution_count": null,
   "metadata": {
    "collapsed": false
   },
   "outputs": [
    {
     "name": "stdout",
     "output_type": "stream",
     "text": [
      "Choose symbol {X or 0}: 0\n",
      "----------------------------------------\n",
      "[' ', ' ', ' ', ' ', ' ', ' ', ' ', ' ', ' ', ' ']\n",
      "[' ', ' ', ' ', ' ', ' ', ' ', ' ', ' ', ' ', ' ']\n",
      "[' ', ' ', ' ', ' ', ' ', ' ', ' ', ' ', ' ', ' ']\n",
      "[' ', ' ', ' ', ' ', ' ', ' ', ' ', ' ', ' ', ' ']\n",
      "[' ', ' ', ' ', ' ', ' ', ' ', ' ', ' ', ' ', ' ']\n",
      "[' ', ' ', ' ', ' ', ' ', ' ', ' ', ' ', ' ', ' ']\n",
      "[' ', ' ', ' ', ' ', ' ', ' ', ' ', ' ', ' ', ' ']\n",
      "[' ', ' ', ' ', ' ', ' ', ' ', ' ', ' ', ' ', ' ']\n",
      "[' ', ' ', ' ', ' ', ' ', ' ', ' ', ' ', ' ', ' ']\n",
      "[' ', ' ', ' ', ' ', ' ', ' ', ' ', ' ', ' ', ' ']\n",
      "----------------------------------------\n",
      "Enter in format {x (from 1 to 3)} {y (from 1 to 3)}: 1 1\n",
      "{'0': 'Player', 'X': 'Computer'}\n",
      "Go on..\n",
      "----------------------------------------\n",
      "['0', ' ', ' ', ' ', ' ', ' ', ' ', ' ', ' ', ' ']\n",
      "[' ', ' ', ' ', ' ', ' ', ' ', ' ', ' ', ' ', ' ']\n",
      "[' ', 'X', ' ', ' ', ' ', ' ', ' ', ' ', ' ', ' ']\n",
      "[' ', ' ', ' ', ' ', ' ', ' ', ' ', ' ', ' ', ' ']\n",
      "[' ', ' ', ' ', ' ', ' ', ' ', ' ', ' ', ' ', ' ']\n",
      "[' ', ' ', ' ', ' ', ' ', ' ', ' ', ' ', ' ', ' ']\n",
      "[' ', ' ', ' ', ' ', ' ', ' ', ' ', ' ', ' ', ' ']\n",
      "[' ', ' ', ' ', ' ', ' ', ' ', ' ', ' ', ' ', ' ']\n",
      "[' ', ' ', ' ', ' ', ' ', ' ', ' ', ' ', ' ', ' ']\n",
      "[' ', ' ', ' ', ' ', ' ', ' ', ' ', ' ', ' ', ' ']\n",
      "----------------------------------------\n",
      "Enter in format {x (from 1 to 3)} {y (from 1 to 3)}: 2 1\n",
      "{'0': 'Player', 'X': 'Computer'}\n",
      "Go on..\n",
      "----------------------------------------\n",
      "['0', '0', ' ', ' ', ' ', ' ', ' ', ' ', ' ', ' ']\n",
      "[' ', ' ', ' ', ' ', ' ', ' ', ' ', ' ', ' ', ' ']\n",
      "['X', 'X', ' ', ' ', ' ', ' ', ' ', ' ', ' ', ' ']\n",
      "[' ', ' ', ' ', ' ', ' ', ' ', ' ', ' ', ' ', ' ']\n",
      "[' ', ' ', ' ', ' ', ' ', ' ', ' ', ' ', ' ', ' ']\n",
      "[' ', ' ', ' ', ' ', ' ', ' ', ' ', ' ', ' ', ' ']\n",
      "[' ', ' ', ' ', ' ', ' ', ' ', ' ', ' ', ' ', ' ']\n",
      "[' ', ' ', ' ', ' ', ' ', ' ', ' ', ' ', ' ', ' ']\n",
      "[' ', ' ', ' ', ' ', ' ', ' ', ' ', ' ', ' ', ' ']\n",
      "[' ', ' ', ' ', ' ', ' ', ' ', ' ', ' ', ' ', ' ']\n",
      "----------------------------------------\n",
      "Enter in format {x (from 1 to 3)} {y (from 1 to 3)}: 3 1\n",
      "{'0': 'Player', 'X': 'Computer'}\n",
      "Go on..\n",
      "----------------------------------------\n",
      "['0', '0', '0', ' ', ' ', ' ', ' ', ' ', ' ', ' ']\n",
      "[' ', ' ', ' ', ' ', ' ', ' ', ' ', ' ', ' ', ' ']\n",
      "['X', 'X', 'X', ' ', ' ', ' ', ' ', ' ', ' ', ' ']\n",
      "[' ', ' ', ' ', ' ', ' ', ' ', ' ', ' ', ' ', ' ']\n",
      "[' ', ' ', ' ', ' ', ' ', ' ', ' ', ' ', ' ', ' ']\n",
      "[' ', ' ', ' ', ' ', ' ', ' ', ' ', ' ', ' ', ' ']\n",
      "[' ', ' ', ' ', ' ', ' ', ' ', ' ', ' ', ' ', ' ']\n",
      "[' ', ' ', ' ', ' ', ' ', ' ', ' ', ' ', ' ', ' ']\n",
      "[' ', ' ', ' ', ' ', ' ', ' ', ' ', ' ', ' ', ' ']\n",
      "[' ', ' ', ' ', ' ', ' ', ' ', ' ', ' ', ' ', ' ']\n",
      "----------------------------------------\n",
      "Enter in format {x (from 1 to 3)} {y (from 1 to 3)}: 4 1\n",
      "Invalid input. Enter again. \n",
      "\n"
     ]
    }
   ],
   "source": [
    "FIELD = [[' ' for i in range(10)] for k in range(10)]\n",
    "game(FIELD)"
   ]
  },
  {
   "cell_type": "code",
   "execution_count": null,
   "metadata": {
    "collapsed": true
   },
   "outputs": [],
   "source": []
  },
  {
   "cell_type": "code",
   "execution_count": null,
   "metadata": {
    "collapsed": true
   },
   "outputs": [],
   "source": []
  }
 ],
 "metadata": {
  "anaconda-cloud": {},
  "kernelspec": {
   "display_name": "Python [Root]",
   "language": "python",
   "name": "Python [Root]"
  },
  "language_info": {
   "codemirror_mode": {
    "name": "ipython",
    "version": 3
   },
   "file_extension": ".py",
   "mimetype": "text/x-python",
   "name": "python",
   "nbconvert_exporter": "python",
   "pygments_lexer": "ipython3",
   "version": "3.5.2"
  }
 },
 "nbformat": 4,
 "nbformat_minor": 0
}
