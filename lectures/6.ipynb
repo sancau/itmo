{
 "cells": [
  {
   "cell_type": "markdown",
   "metadata": {},
   "source": [
    "# 2"
   ]
  },
  {
   "cell_type": "code",
   "execution_count": 83,
   "metadata": {
    "collapsed": false
   },
   "outputs": [],
   "source": [
    "def get_square_params(a):\n",
    "    return (a * a, a * 4)\n",
    "\n",
    "# test\n",
    "assert get_square_params(5) == (25, 20)"
   ]
  },
  {
   "cell_type": "markdown",
   "metadata": {},
   "source": [
    "# 4"
   ]
  },
  {
   "cell_type": "code",
   "execution_count": 84,
   "metadata": {
    "collapsed": false
   },
   "outputs": [],
   "source": [
    "def get_abc_count(string):\n",
    "    return string.count('abc')\n",
    "\n",
    "# test\n",
    "assert get_abc_count('abc' * 5 + 'somehelloworld' + 'abc' + 'something' + 'abc' * 3) == 9"
   ]
  },
  {
   "cell_type": "markdown",
   "metadata": {},
   "source": [
    "# 5"
   ]
  },
  {
   "cell_type": "code",
   "execution_count": 85,
   "metadata": {
    "collapsed": false
   },
   "outputs": [],
   "source": [
    "from random import randint as ri\n",
    "\n",
    "def filter_int_string(string):\n",
    "    try:\n",
    "        numbers = [int(num) for num in string.split(',')]\n",
    "    except ValueError as e:\n",
    "        return 'Invalid input', e\n",
    "    new_lst = list( filter(lambda n: n > 0 and n % 2, numbers) )\n",
    "    return ', '.join([str(i) for i in new_lst])\n",
    "\n",
    "# test\n",
    "assert filter_int_string('1, -2, 2, 3, -123, 5, -42, 42') == '1, 3, 5'"
   ]
  },
  {
   "cell_type": "markdown",
   "metadata": {},
   "source": [
    "# 6"
   ]
  },
  {
   "cell_type": "code",
   "execution_count": 86,
   "metadata": {
    "collapsed": false
   },
   "outputs": [
    {
     "name": "stdout",
     "output_type": "stream",
     "text": [
      "sum, index: (5038, 0)\n",
      "sum, index: (6399, 1)\n",
      "sum, index: (3681, 2)\n",
      "sum, index: (5809, 3)\n",
      "sum, index: (5813, 4)\n",
      "sum, index: (4838, 5)\n",
      "sum, index: (5103, 6)\n",
      "sum, index: (5290, 7)\n",
      "sum, index: (4063, 8)\n",
      "sum, index: (3134, 9)\n"
     ]
    },
    {
     "data": {
      "text/plain": [
       "1"
      ]
     },
     "execution_count": 86,
     "metadata": {},
     "output_type": "execute_result"
    }
   ],
   "source": [
    "from random import randint as ri\n",
    "\n",
    "def calc_random_matrix_params(X, Y):\n",
    "    matrix = [[ri(1, 1000) for x in range(X)] for y in range(Y)]\n",
    "    lines_params = [ (sum(line), index) for index, line in enumerate(matrix)]\n",
    "\n",
    "    for line in lines_params: print('sum, index:', line)  # for debug purposes\n",
    "    \n",
    "    return max(lines_params)[1]  # returns index of the row only\n",
    "\n",
    "# test        \n",
    "calc_random_matrix_params(10,10)    "
   ]
  },
  {
   "cell_type": "markdown",
   "metadata": {},
   "source": [
    "# 7"
   ]
  },
  {
   "cell_type": "code",
   "execution_count": 87,
   "metadata": {
    "collapsed": false
   },
   "outputs": [],
   "source": [
    "def list_shift(lst, direction, positions):\n",
    "    temp = lst[:]\n",
    "    \n",
    "    if direction == 'right':\n",
    "        for index, i in enumerate(temp):\n",
    "            new_index = index + positions\n",
    "            if new_index >= len(lst):\n",
    "                new_index = new_index - len(lst)\n",
    "            lst[new_index] = i\n",
    "    elif direction == 'left':\n",
    "        for index, i in enumerate(temp):\n",
    "            new_index = index - positions\n",
    "            if new_index < 0:\n",
    "                new_index = new_index + len(lst)\n",
    "            lst[new_index] = i\n",
    "    else:\n",
    "        raise Exception('Invalid direction passed')\n",
    "        \n",
    "    return lst\n",
    "\n",
    "# tests\n",
    "lst = [1, 2, 3, 4, 5]\n",
    "assert list_shift(lst, 'right', 3) == [3, 4, 5, 1, 2]\n",
    "\n",
    "lst = [1, 2, 3, 4, 5]\n",
    "assert list_shift(lst, 'left', 3) == [4, 5, 1, 2, 3]\n"
   ]
  },
  {
   "cell_type": "markdown",
   "metadata": {},
   "source": [
    "# 3"
   ]
  },
  {
   "cell_type": "code",
   "execution_count": 88,
   "metadata": {
    "collapsed": false
   },
   "outputs": [],
   "source": [
    "def encrypt(string, key):\n",
    "    # generation matrix\n",
    "    X = len(string) // key + 1\n",
    "    Y = key\n",
    "    matrix = [[None for x in range(X)] for y in range(Y)]\n",
    "\n",
    "    # filling matrix\n",
    "    x = 0\n",
    "    y = 0\n",
    "    for ch in string:\n",
    "        matrix[x][y] = ch\n",
    "        if x + 1 < len(matrix): \n",
    "            x += 1\n",
    "        else:\n",
    "            y += 1\n",
    "            x = 0\n",
    "            \n",
    "    encrypted = ''\n",
    "    for line in matrix:\n",
    "        encrypted += ''.join([ch for ch in line if ch])\n",
    "    \n",
    "    return encrypted\n",
    "\n",
    "# tests\n",
    "assert encrypt('helloworld!', 3) == 'hlodeor!lwl'\n",
    "assert encrypt('helloworld!', 4) == 'holewdlo!lr'"
   ]
  },
  {
   "cell_type": "markdown",
   "metadata": {},
   "source": [
    "# 1"
   ]
  },
  {
   "cell_type": "code",
   "execution_count": 89,
   "metadata": {
    "collapsed": false
   },
   "outputs": [
    {
     "name": "stdout",
     "output_type": "stream",
     "text": [
      "[28, 101, 104]\n",
      "[157, 230, 279]\n",
      "[366, 385, 490]\n",
      "\n",
      "WORKS\n"
     ]
    }
   ],
   "source": [
    "from random import randint as ri\n",
    "\n",
    "def in_matrix(matrix, element):\n",
    "    if not matrix:\n",
    "        return False\n",
    "    \n",
    "    guess_index = len(matrix) // 2\n",
    "    guess_row = matrix[guess_index]\n",
    "    if element < guess_row[0]:\n",
    "        up_slice = matrix[:guess_index]\n",
    "        return in_matrix(up_slice, element)\n",
    "    else:\n",
    "        if in_list(element, guess_row):  # can do recursion here?\n",
    "            return True\n",
    "        else:\n",
    "            down_slice = matrix[guess_index + 1:]\n",
    "            return in_matrix(down_slice, element)\n",
    "\n",
    "        \n",
    "def in_list(element, lst):\n",
    "    if not lst:\n",
    "        return False\n",
    "\n",
    "    if len(lst) // 2 == 0:\n",
    "        for i in lst:\n",
    "            if i == element:\n",
    "                return True\n",
    "            else:\n",
    "                return False\n",
    "\n",
    "    index = len(lst) // 2\n",
    "    guess = lst[index]\n",
    "    if guess == element:\n",
    "        return True \n",
    "    elif element > guess:\n",
    "        right_slice = lst[index+1:]\n",
    "        return in_list(element, right_slice)\n",
    "    else:\n",
    "        left_slice = lst[:index]\n",
    "        return in_list(element, left_slice) \n",
    "\n",
    "\n",
    "    \n",
    "# TEST\n",
    "# matrix generation\n",
    "X = 3\n",
    "Y = 3\n",
    "numbers = list(reversed(sorted([ri(1, 1000) for i in range(X * Y)])))\n",
    "test_numbers = numbers[:]\n",
    "\n",
    "matrix = [[numbers.pop() for x in range(X)] for y in range(Y)]\n",
    "\n",
    "for line in matrix: print(line)\n",
    "    \n",
    "#testing\n",
    "for num in test_numbers:\n",
    "    assert in_matrix(matrix, num)\n",
    "    assert not in_matrix(matrix, -num) \n",
    "print('\\nWORKS')"
   ]
  },
  {
   "cell_type": "code",
   "execution_count": null,
   "metadata": {
    "collapsed": false
   },
   "outputs": [],
   "source": []
  }
 ],
 "metadata": {
  "kernelspec": {
   "display_name": "Python [Root]",
   "language": "python",
   "name": "Python [Root]"
  },
  "language_info": {
   "codemirror_mode": {
    "name": "ipython",
    "version": 3
   },
   "file_extension": ".py",
   "mimetype": "text/x-python",
   "name": "python",
   "nbconvert_exporter": "python",
   "pygments_lexer": "ipython3",
   "version": "3.5.2"
  }
 },
 "nbformat": 4,
 "nbformat_minor": 0
}
