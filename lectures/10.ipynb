{
 "cells": [
  {
   "cell_type": "code",
   "execution_count": 41,
   "metadata": {
    "collapsed": false
   },
   "outputs": [],
   "source": [
    "class A:\n",
    "    __i = 42  # cloaking works for class variables\n",
    "\n",
    "    @classmethod\n",
    "    def class_method(cls, *args, **kwargs):\n",
    "        print(cls, args, kwargs)\n",
    "    \n",
    "a = A()"
   ]
  },
  {
   "cell_type": "code",
   "execution_count": 42,
   "metadata": {
    "collapsed": false
   },
   "outputs": [
    {
     "data": {
      "text/plain": [
       "(42, 42)"
      ]
     },
     "execution_count": 42,
     "metadata": {},
     "output_type": "execute_result"
    }
   ],
   "source": [
    "A._A__i, a._A__i"
   ]
  },
  {
   "cell_type": "code",
   "execution_count": 43,
   "metadata": {
    "collapsed": false
   },
   "outputs": [
    {
     "name": "stdout",
     "output_type": "stream",
     "text": [
      "<class '__main__.A'> (12,) {'key': 'value'}\n"
     ]
    }
   ],
   "source": [
    "A.class_method(12, key='value')"
   ]
  },
  {
   "cell_type": "markdown",
   "metadata": {},
   "source": [
    "# Polymorthing\n"
   ]
  },
  {
   "cell_type": "code",
   "execution_count": 60,
   "metadata": {
    "collapsed": true
   },
   "outputs": [],
   "source": [
    "class Base:\n",
    "    @classmethod\n",
    "    def isBase(cls):\n",
    "        return True if cls.__name__ == 'Base' else False\n",
    "    \n",
    "    @classmethod\n",
    "    def name(cls):\n",
    "        return cls.__name__\n",
    "    \n",
    "    \n",
    "class Derived(Base):\n",
    "    @classmethod\n",
    "    def name(cls):\n",
    "        return cls.__name__"
   ]
  },
  {
   "cell_type": "code",
   "execution_count": 61,
   "metadata": {
    "collapsed": false
   },
   "outputs": [
    {
     "name": "stdout",
     "output_type": "stream",
     "text": [
      "True Base\n",
      "False Derived\n"
     ]
    }
   ],
   "source": [
    "x = Base()\n",
    "print(x.isBase(), x.name())\n",
    "\n",
    "d = Derived()\n",
    "print(d.isBase(), d.name())"
   ]
  },
  {
   "cell_type": "markdown",
   "metadata": {},
   "source": [
    "# pure virtual methods have no implementation"
   ]
  },
  {
   "cell_type": "code",
   "execution_count": 68,
   "metadata": {
    "collapsed": true
   },
   "outputs": [],
   "source": [
    "class Abstract:\n",
    "    def some_method(self, *args, **kwargs):\n",
    "        raise NotImplementedError('Method some_method is virtual.')\n",
    "        \n",
    "\n",
    "class Something(Abstract):\n",
    "    pass"
   ]
  },
  {
   "cell_type": "code",
   "execution_count": 69,
   "metadata": {
    "collapsed": false
   },
   "outputs": [
    {
     "ename": "NotImplementedError",
     "evalue": "Method some_method is virtual.",
     "output_type": "error",
     "traceback": [
      "\u001b[1;31m---------------------------------------------------------------------------\u001b[0m",
      "\u001b[1;31mNotImplementedError\u001b[0m                       Traceback (most recent call last)",
      "\u001b[1;32m<ipython-input-69-5d641d7c1733>\u001b[0m in \u001b[0;36m<module>\u001b[1;34m()\u001b[0m\n\u001b[0;32m      1\u001b[0m \u001b[0ms\u001b[0m \u001b[1;33m=\u001b[0m \u001b[0mSomething\u001b[0m\u001b[1;33m(\u001b[0m\u001b[1;33m)\u001b[0m\u001b[1;33m\u001b[0m\u001b[0m\n\u001b[1;32m----> 2\u001b[1;33m \u001b[0ms\u001b[0m\u001b[1;33m.\u001b[0m\u001b[0msome_method\u001b[0m\u001b[1;33m(\u001b[0m\u001b[1;33m)\u001b[0m\u001b[1;33m\u001b[0m\u001b[0m\n\u001b[0m",
      "\u001b[1;32m<ipython-input-68-fe2a91ecc5f1>\u001b[0m in \u001b[0;36msome_method\u001b[1;34m(self, *args, **kwargs)\u001b[0m\n\u001b[0;32m      1\u001b[0m \u001b[1;32mclass\u001b[0m \u001b[0mAbstract\u001b[0m\u001b[1;33m:\u001b[0m\u001b[1;33m\u001b[0m\u001b[0m\n\u001b[0;32m      2\u001b[0m     \u001b[1;32mdef\u001b[0m \u001b[0msome_method\u001b[0m\u001b[1;33m(\u001b[0m\u001b[0mself\u001b[0m\u001b[1;33m,\u001b[0m \u001b[1;33m*\u001b[0m\u001b[0margs\u001b[0m\u001b[1;33m,\u001b[0m \u001b[1;33m**\u001b[0m\u001b[0mkwargs\u001b[0m\u001b[1;33m)\u001b[0m\u001b[1;33m:\u001b[0m\u001b[1;33m\u001b[0m\u001b[0m\n\u001b[1;32m----> 3\u001b[1;33m         \u001b[1;32mraise\u001b[0m \u001b[0mNotImplementedError\u001b[0m\u001b[1;33m(\u001b[0m\u001b[1;34m'Method some_method is virtual.'\u001b[0m\u001b[1;33m)\u001b[0m\u001b[1;33m\u001b[0m\u001b[0m\n\u001b[0m\u001b[0;32m      4\u001b[0m \u001b[1;33m\u001b[0m\u001b[0m\n\u001b[0;32m      5\u001b[0m \u001b[1;33m\u001b[0m\u001b[0m\n",
      "\u001b[1;31mNotImplementedError\u001b[0m: Method some_method is virtual."
     ]
    }
   ],
   "source": [
    "s = Something()\n",
    "s.some_method()"
   ]
  },
  {
   "cell_type": "markdown",
   "metadata": {},
   "source": [
    "# Ex. 1"
   ]
  },
  {
   "cell_type": "code",
   "execution_count": 101,
   "metadata": {
    "collapsed": false
   },
   "outputs": [],
   "source": [
    "from math import pi\n",
    "\n",
    "class Shape:\n",
    "    def __init__(self):\n",
    "        self.__cache = None\n",
    "    \n",
    "    def get_area(self):\n",
    "        raise NotImplementedError('Method get_square is virtual.')\n",
    "        \n",
    "    def get_perimeter(self):\n",
    "        raise NotImplementedError('Method get_perimeter is virtual.')\n",
    "\n",
    "\n",
    "class Circle(Shape):\n",
    "    def __init__(self, radius):\n",
    "        super().__init__()\n",
    "        self.__radius = radius\n",
    "        self.__cache = {\n",
    "            'square': None,\n",
    "            'perimeter': None\n",
    "        }\n",
    "\n",
    "    def get_area(self):\n",
    "        if self.__cache['square'] is None:\n",
    "            square = pi * self.__radius ** 2\n",
    "            self.__cache['square'] = square\n",
    "            return square\n",
    "        return self.__cache['square']\n",
    "    \n",
    "    def get_perimeter(self):\n",
    "        if self.__cache['perimeter'] is None:\n",
    "            perimeter = 2 * pi * self.__radius\n",
    "            self.__cache['perimeter'] = perimeter\n",
    "            return perimeter\n",
    "        return self.__cache['perimeter']\n",
    "    \n",
    "        \n",
    "class Square(Shape):\n",
    "    def __init__(self, side_length):\n",
    "        super().__init__()\n",
    "        self.__side_length = side_length\n",
    "        self.__cache = {\n",
    "            'square': None,\n",
    "            'perimeter': None\n",
    "        }\n",
    "    \n",
    "    def get_area(self):\n",
    "        if self.__cache['square'] is None:\n",
    "            square = self.__side_length ** 2\n",
    "            self.__cache['square'] = square\n",
    "            return square\n",
    "        return self.__cache['square']\n",
    "    \n",
    "    def get_perimeter(self):\n",
    "        if self.__cache['perimeter'] is None:\n",
    "            perimeter = self.__side_length * 4\n",
    "            self.__cache['perimeter'] = perimeter\n",
    "            return perimeter\n",
    "        return self.__cache['perimeter']\n"
   ]
  },
  {
   "cell_type": "code",
   "execution_count": 104,
   "metadata": {
    "collapsed": false
   },
   "outputs": [
    {
     "data": {
      "text/plain": [
       "(314.1592653589793, 62.83185307179586)"
      ]
     },
     "execution_count": 104,
     "metadata": {},
     "output_type": "execute_result"
    }
   ],
   "source": [
    "c = Circle(10)\n",
    "c.get_area(), c.get_perimeter()"
   ]
  },
  {
   "cell_type": "code",
   "execution_count": 106,
   "metadata": {
    "collapsed": false
   },
   "outputs": [
    {
     "data": {
      "text/plain": [
       "(100, 40)"
      ]
     },
     "execution_count": 106,
     "metadata": {},
     "output_type": "execute_result"
    }
   ],
   "source": [
    "s = Square(10)\n",
    "s.get_area(), s.get_perimeter()"
   ]
  },
  {
   "cell_type": "markdown",
   "metadata": {},
   "source": [
    "# binary tree"
   ]
  },
  {
   "cell_type": "code",
   "execution_count": 58,
   "metadata": {
    "collapsed": false
   },
   "outputs": [],
   "source": [
    "class Tree:\n",
    "    \n",
    "    class Node:\n",
    "        def __init__(self, left=None, right=None, payload=None):\n",
    "            self._left = left\n",
    "            self._right = right\n",
    "            self._payload = payload\n",
    "            \n",
    "        def __str__(self):\n",
    "            return ', '.join([str(i) \\\n",
    "                  for i in [self._payload, self._left, self._right]])\n",
    "        \n",
    "    def __init__(self):\n",
    "        self._nodes = []\n",
    "        \n",
    "    def push(self, value):\n",
    "        #         if not len(self._nodes): \n",
    "        #             self._nodes.append(Tree.Node(payload=value))\n",
    "        #             return \n",
    "\n",
    "        #         if self._nodes[-1]._payload < value:\n",
    "        #             self._nodes[-1]._right = Tree.Node(payload=value)\n",
    "        #         else:\n",
    "        #             self._nodes[-1]._left = Tree.Node(payload=value)\n",
    "\n",
    "    def find(self, value):\n",
    "        def get_next(node, value):\n",
    "            if value > node._payload:\n",
    "                return node._right\n",
    "            return node._left\n",
    "        \n",
    "        if len(self._nodes):\n",
    "            node = self._nodes[0]\n",
    "            while node._payload != value:\n",
    "                node = get_next(node, value)\n",
    "                if node is None:\n",
    "                    return '{} not found'.format(value)\n",
    "            return 'Found.', node\n",
    "        return '{} not found'.format(value)\n",
    "    \n",
    "    def __str__(self):\n",
    "        return '\\n'.join(\n",
    "            [ ', '.join([str(node._payload), str(node._left), str(node._right)] ) \\\n",
    "                          for node in self._nodes ])\n",
    "    \n",
    "t = Tree()\n",
    "t.push(1)\n",
    "t.push(23)\n",
    "t.push(-23)\n",
    "t.push(1231232)\n"
   ]
  },
  {
   "cell_type": "code",
   "execution_count": 59,
   "metadata": {
    "collapsed": false
   },
   "outputs": [
    {
     "data": {
      "text/plain": [
       "('Found.', <__main__.Tree.Node at 0x7f7a14196e10>)"
      ]
     },
     "execution_count": 59,
     "metadata": {},
     "output_type": "execute_result"
    }
   ],
   "source": [
    "t.find(1)"
   ]
  },
  {
   "cell_type": "code",
   "execution_count": 60,
   "metadata": {
    "collapsed": false
   },
   "outputs": [
    {
     "data": {
      "text/plain": [
       "('Found.', <__main__.Tree.Node at 0x7f7a14196eb8>)"
      ]
     },
     "execution_count": 60,
     "metadata": {},
     "output_type": "execute_result"
    }
   ],
   "source": [
    "t.find(-23)"
   ]
  },
  {
   "cell_type": "code",
   "execution_count": 61,
   "metadata": {
    "collapsed": false
   },
   "outputs": [
    {
     "data": {
      "text/plain": [
       "'23 not found'"
      ]
     },
     "execution_count": 61,
     "metadata": {},
     "output_type": "execute_result"
    }
   ],
   "source": [
    "t.find(23)"
   ]
  },
  {
   "cell_type": "code",
   "execution_count": 62,
   "metadata": {
    "collapsed": false
   },
   "outputs": [
    {
     "data": {
      "text/plain": [
       "'24 not found'"
      ]
     },
     "execution_count": 62,
     "metadata": {},
     "output_type": "execute_result"
    }
   ],
   "source": [
    "t.find(24)"
   ]
  },
  {
   "cell_type": "code",
   "execution_count": 63,
   "metadata": {
    "collapsed": false
   },
   "outputs": [
    {
     "data": {
      "text/plain": [
       "('Found.', <__main__.Tree.Node at 0x7f7a14196a20>)"
      ]
     },
     "execution_count": 63,
     "metadata": {},
     "output_type": "execute_result"
    }
   ],
   "source": [
    "t.find(1231232)"
   ]
  },
  {
   "cell_type": "markdown",
   "metadata": {},
   "source": [
    "# ДЗ\n",
    "## автомат жизнь (клеточный автомат)\n",
    "## автомат с кроликами лисами и травой\n",
    "### Матрица размером n x n (может быть -> пустая, трава, лис или кролик)\n",
    "### Взаимодействие клеток\n"
   ]
  },
  {
   "cell_type": "markdown",
   "metadata": {},
   "source": [
    "# life"
   ]
  },
  {
   "cell_type": "code",
   "execution_count": 140,
   "metadata": {
    "collapsed": false
   },
   "outputs": [],
   "source": [
    "from time import sleep\n",
    "from random import randint as ri\n",
    "from collections import namedtuple\n",
    "\n",
    "Cell = namedtuple('Cell', ['x', 'y', 'alive'])\n",
    "\n",
    "\n",
    "class LifeGame:    \n",
    "    def __init__(self, x=20, y=20):\n",
    "        self._field = self._generate_field(x, y)\n",
    "        \n",
    "    def _generate_field(self, x, y):\n",
    "        field = [[Cell(y_cell, x_cell, ri(0,1)) \\\n",
    "                  for y_cell in range(y)] for x_cell in range(x)]\n",
    "        return field\n",
    "    \n",
    "    def _get_neighbours(self, cell):\n",
    "        neighbours = []\n",
    "        x, y = cell.x, cell.y\n",
    "        for i in range(x - 1, x + 2):\n",
    "            for j in range(y - 1, y + 2):\n",
    "                if i >=0 \\\n",
    "                and j >= 0 \\\n",
    "                and i < len(self._field) \\\n",
    "                and j < len(self._field[0]):\n",
    "                    neighbours.append(self._field[i][j])\n",
    "        return neighbours\n",
    "\n",
    "    def _is_alive(self, cell):\n",
    "        neighbours = self._get_neighbours(cell)\n",
    "        alive_neighbours = 0\n",
    "        for n in neighbours:\n",
    "            if n.alive:\n",
    "                alive_neighbours += 1            \n",
    "        return 2 <= alive_neighbours < 4 \n",
    "    \n",
    "    def _step(self):\n",
    "        for line in self._field:\n",
    "            for cell in line:\n",
    "                status = 1 if self._is_alive(cell) else 0\n",
    "                x, y = cell.x, cell.y\n",
    "                self._field[x][y] = Cell(x, y, status)\n",
    "    \n",
    "    def _render(self):\n",
    "        for line in self._field: \n",
    "            print(''.join([('X' if cell.alive else '_') for cell in line]))\n",
    "        print()\n",
    "        \n",
    "    def play(self, iterations=10, delay=0.5):\n",
    "        for i in range(iterations):\n",
    "            self._step()\n",
    "            self._render()\n",
    "            sleep(delay)\n",
    "    "
   ]
  },
  {
   "cell_type": "code",
   "execution_count": 141,
   "metadata": {
    "collapsed": false
   },
   "outputs": [],
   "source": [
    "life = LifeGame(10, 10)\n"
   ]
  },
  {
   "cell_type": "code",
   "execution_count": 142,
   "metadata": {
    "collapsed": false
   },
   "outputs": [
    {
     "name": "stdout",
     "output_type": "stream",
     "text": [
      "_____X____\n",
      "___XX_XX_X\n",
      "___X__XXX_\n",
      "__X_XX_XX_\n",
      "__X__XX_X_\n",
      "X_XXX__X_X\n",
      "_____X__XX\n",
      "XXXX__X_X_\n",
      "_____X___X\n",
      "_XXX_XXXXX\n",
      "\n",
      "_____X____\n",
      "___XX_XX_X\n",
      "_X_X__XXX_\n",
      "XXXXXX_XX_\n",
      "X____XX_X_\n",
      "X_XX___X_X\n",
      "X____XX_XX\n",
      "X_XXX_X_X_\n",
      "X________X\n",
      "XXXXXXXXXX\n",
      "\n",
      "_____X____\n",
      "XX_XX_XX_X\n",
      "X__X__XXX_\n",
      "X_X_XX_XX_\n",
      "X_X__XX_X_\n",
      "X_X_X__X_X\n",
      "________XX\n",
      "XXXXXXXXX_\n",
      "_________X\n",
      "XXXXXXXXXX\n",
      "\n",
      "X____X____\n",
      "X__XX_XX_X\n",
      "X_XX__XXX_\n",
      "X_X_XX_XX_\n",
      "X_X__XX_X_\n",
      "X_X_X__X_X\n",
      "X_X_X_X_XX\n",
      "X_X_X_X_X_\n",
      "X________X\n",
      "X_XXXXXXXX\n",
      "\n",
      "X____X____\n",
      "X__XX_XX_X\n",
      "X__X__XXX_\n",
      "X_X_XX_XX_\n",
      "X_X__XX_X_\n",
      "X_X_X__X_X\n",
      "X_X_X_X_XX\n",
      "X_X_X_X_X_\n",
      "_________X\n",
      "XXXXXXXXXX\n",
      "\n",
      "X____X____\n",
      "XX_XX_XX_X\n",
      "___X__XXX_\n",
      "X_X_XX_XX_\n",
      "X_X__XX_X_\n",
      "X_X_X__X_X\n",
      "X_X_X_X_XX\n",
      "X_X_X_X_X_\n",
      "X_X_X_X__X\n",
      "X_X_X_XX_X\n",
      "\n",
      "X____X____\n",
      "_X_XX_XX_X\n",
      "X__X__XXX_\n",
      "X_X_XX_XX_\n",
      "X_X__XX_X_\n",
      "X_X_X__X_X\n",
      "X_X_X_X_XX\n",
      "X_X_X_X_X_\n",
      "X_X_X_X__X\n",
      "X_X_X_X_XX\n",
      "\n",
      "X____X____\n",
      "XX_XX_XX_X\n",
      "X__X__XXX_\n",
      "X_X_XX_XX_\n",
      "X_X__XX_X_\n",
      "X_X_X__X_X\n",
      "X_X_X_X_XX\n",
      "X_X_X_X_X_\n",
      "X_X_X____X\n",
      "X_X_XXXXXX\n",
      "\n",
      "X____X____\n",
      "X__XX_XX_X\n",
      "X_XX__XXX_\n",
      "X_X_XX_XX_\n",
      "X_X__XX_X_\n",
      "X_X_X__X_X\n",
      "X_X_X_X_XX\n",
      "X_X_X_X_X_\n",
      "X_X_X____X\n",
      "X_X_X_XXXX\n",
      "\n",
      "X____X____\n",
      "X__XX_XX_X\n",
      "X__X__XXX_\n",
      "X_X_XX_XX_\n",
      "X_X__XX_X_\n",
      "X_X_X__X_X\n",
      "X_X_X_X_XX\n",
      "X_X_X_X_X_\n",
      "X_X______X\n",
      "X_XXXXXXXX\n",
      "\n"
     ]
    }
   ],
   "source": [
    "life.play()"
   ]
  },
  {
   "cell_type": "code",
   "execution_count": null,
   "metadata": {
    "collapsed": true
   },
   "outputs": [],
   "source": []
  },
  {
   "cell_type": "code",
   "execution_count": 99,
   "metadata": {
    "collapsed": false
   },
   "outputs": [
    {
     "name": "stdout",
     "output_type": "stream",
     "text": [
      "0\n",
      "1\n",
      "2\n"
     ]
    }
   ],
   "source": [
    "for i in range(0, 2+ 1): print(i)"
   ]
  },
  {
   "cell_type": "code",
   "execution_count": null,
   "metadata": {
    "collapsed": true
   },
   "outputs": [],
   "source": []
  },
  {
   "cell_type": "code",
   "execution_count": null,
   "metadata": {
    "collapsed": true
   },
   "outputs": [],
   "source": []
  }
 ],
 "metadata": {
  "anaconda-cloud": {},
  "kernelspec": {
   "display_name": "Python [Root]",
   "language": "python",
   "name": "Python [Root]"
  },
  "language_info": {
   "codemirror_mode": {
    "name": "ipython",
    "version": 3
   },
   "file_extension": ".py",
   "mimetype": "text/x-python",
   "name": "python",
   "nbconvert_exporter": "python",
   "pygments_lexer": "ipython3",
   "version": "3.5.2"
  }
 },
 "nbformat": 4,
 "nbformat_minor": 0
}
