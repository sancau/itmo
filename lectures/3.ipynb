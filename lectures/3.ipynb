{
 "cells": [
  {
   "cell_type": "markdown",
   "metadata": {},
   "source": [
    "# wiki -> sha5, keccak, md5, sha"
   ]
  },
  {
   "cell_type": "code",
   "execution_count": null,
   "metadata": {
    "collapsed": true
   },
   "outputs": [],
   "source": [
    "# hashable vs immutable? \n",
    "# is hash unique?\n",
    "# dry principle wiki"
   ]
  },
  {
   "cell_type": "code",
   "execution_count": null,
   "metadata": {
    "collapsed": false
   },
   "outputs": [],
   "source": [
    "d = dict([(i, i, ) for i in range(10)])"
   ]
  },
  {
   "cell_type": "code",
   "execution_count": null,
   "metadata": {
    "collapsed": false
   },
   "outputs": [],
   "source": [
    "d.keys()"
   ]
  },
  {
   "cell_type": "code",
   "execution_count": null,
   "metadata": {
    "collapsed": false
   },
   "outputs": [],
   "source": [
    "d.values()"
   ]
  },
  {
   "cell_type": "code",
   "execution_count": null,
   "metadata": {
    "collapsed": false
   },
   "outputs": [],
   "source": [
    "d.items()"
   ]
  },
  {
   "cell_type": "code",
   "execution_count": null,
   "metadata": {
    "collapsed": false
   },
   "outputs": [],
   "source": [
    "d.get('ASD', 42)"
   ]
  },
  {
   "cell_type": "code",
   "execution_count": null,
   "metadata": {
    "collapsed": true
   },
   "outputs": [],
   "source": [
    "def callback(key):\n",
    "    print('No {key} in dict'.format(key=key))"
   ]
  },
  {
   "cell_type": "code",
   "execution_count": null,
   "metadata": {
    "collapsed": false
   },
   "outputs": [],
   "source": [
    "d.get('ASD', callback('ASD'))"
   ]
  },
  {
   "cell_type": "code",
   "execution_count": null,
   "metadata": {
    "collapsed": false
   },
   "outputs": [],
   "source": [
    "d.pop('ASD', callback('ASD'))"
   ]
  },
  {
   "cell_type": "markdown",
   "metadata": {},
   "source": [
    "# ex. 1"
   ]
  },
  {
   "cell_type": "code",
   "execution_count": null,
   "metadata": {
    "collapsed": false
   },
   "outputs": [],
   "source": [
    "def word_counter(string):\n",
    "    d = {}\n",
    "    for word in string.split():\n",
    "        if word in d:\n",
    "            d[word] += 1\n",
    "        else: \n",
    "            d[word] = 1\n",
    "    return max(d.values())\n",
    "\n",
    "word_counter('asd asd asd dfdfdf asd asd 42 42 42 42')"
   ]
  },
  {
   "cell_type": "markdown",
   "metadata": {},
   "source": [
    "# spiral array (home)"
   ]
  },
  {
   "cell_type": "code",
   "execution_count": 5,
   "metadata": {
    "collapsed": false
   },
   "outputs": [
    {
     "name": "stdout",
     "output_type": "stream",
     "text": [
      "[25, 0, 0, 0, 0]\n",
      "[0, 0, 0, 0, 0]\n",
      "[0, 0, 0, 0, 0]\n",
      "[0, 0, 0, 0, 0]\n",
      "[0, 0, 0, 0, 0]\n"
     ]
    }
   ],
   "source": [
    "from collections import namedtuple\n",
    "\n",
    "def direction_gen(initial_direction):\n",
    "    d = initial_direction\n",
    "    while True:\n",
    "        d += 1\n",
    "        yield d\n",
    "\n",
    "def get_next_position(position, direction, matrix):\n",
    "    x, y = position.x, position.y\n",
    "    dgen = direction_gen(direction)\n",
    "    \n",
    "    # try current direction\n",
    "    # if fail get next direction\n",
    "    # try \n",
    "    # ...\n",
    "    # return new position, direction\n",
    "    \n",
    "    return Position(x, y), direction\n",
    "\n",
    "\n",
    "X = 5\n",
    "Y = 5\n",
    "\n",
    "matrix = [[0 for i in range(X)] for i in range(Y)]         \n",
    "\n",
    "Position = namedtuple('Position', ['x', 'y'])\n",
    "position = Position(0, 0)\n",
    "\n",
    "value = 1\n",
    "direction = 1\n",
    "for i in range(X * Y):\n",
    "    x, y = position.x, position.y\n",
    "    matrix[y][x] = value\n",
    "    value += 1\n",
    "    position, direction = get_next_position(position, direction, matrix)\n",
    "    \n",
    "for i in matrix:\n",
    "    print(i)"
   ]
  },
  {
   "cell_type": "markdown",
   "metadata": {},
   "source": [
    "# ex. 2"
   ]
  },
  {
   "cell_type": "code",
   "execution_count": null,
   "metadata": {
    "collapsed": false
   },
   "outputs": [],
   "source": [
    "string = 'а роза упала на лапу азора'\n",
    "another_string = 'some random stuff'\n",
    "\n",
    "def is_polindrom(string):\n",
    "    striped = string.replace(' ', '')\n",
    "    if striped == striped[::-1]:\n",
    "        return True\n",
    "    return False\n",
    "\n",
    "print(is_polindrom(string))\n",
    "print(is_polindrom(another_string))"
   ]
  },
  {
   "cell_type": "markdown",
   "metadata": {},
   "source": [
    "# ex. 3"
   ]
  },
  {
   "cell_type": "code",
   "execution_count": null,
   "metadata": {
    "collapsed": false
   },
   "outputs": [],
   "source": [
    "string = 'google yandex yahoo'\n",
    "substring = 'aho'\n",
    "\n",
    "def get_substring_indexes(string, substring):\n",
    "    for idx, ch in enumerate(string):\n",
    "        token = string[idx: idx + len(substring)]\n",
    "        if token == substring:\n",
    "            return idx, idx + len(substring)\n",
    "        \n",
    "get_substring_indexes(string, substring)"
   ]
  },
  {
   "cell_type": "markdown",
   "metadata": {},
   "source": [
    "# ex. 4"
   ]
  },
  {
   "cell_type": "code",
   "execution_count": null,
   "metadata": {
    "collapsed": true
   },
   "outputs": [],
   "source": [
    "items = []"
   ]
  },
  {
   "cell_type": "code",
   "execution_count": null,
   "metadata": {
    "collapsed": false
   },
   "outputs": [],
   "source": [
    "def add_item(name, price, count):\n",
    "    items.append({\n",
    "            'name': name,\n",
    "            'price': price,\n",
    "            'count': count\n",
    "        })\n",
    "\n",
    "    print(items)\n",
    "\n",
    "def delete_item(name):\n",
    "    [items.pop() for i in items if i['name'] == name]\n",
    "\n",
    "\n",
    "def in_stock(name):\n",
    "    res = [items.pop() for i in items if i['name'] == name]\n",
    "    if len(res) > 0:\n",
    "        print(res[0]['count'])\n",
    "    else:\n",
    "        print('нет такого')\n",
    "    \n",
    "def get_list():\n",
    "    print(items)\n",
    "    \n",
    "\n",
    "def handle():\n",
    "    COMMANDS = {\n",
    "        1: get_list, \n",
    "        2: add_item,\n",
    "        3: delete_item,\n",
    "        4: in_stock,\n",
    "    }\n",
    "    \n",
    "    print('1 -> Показать всё')\n",
    "    print('2 -> Добавить товар')\n",
    "    print('3 -> Удалить товар')\n",
    "    print('4 -> Проверить наличие')\n",
    "    print()\n",
    "    \n",
    "    symbol = input('Выберите команду: ')\n",
    "    print()\n",
    "    if symbol.isdigit():\n",
    "        command = int(symbol)\n",
    "        if command == 2:\n",
    "            name = input('Введите наименование товара: ')\n",
    "            price = input('Введите цену: ')\n",
    "            count = input('Введите количество: ')\n",
    "            print(name, price, count)\n",
    "            COMMANDS[command](name, price, count)\n",
    "        elif command in [3, 4]:\n",
    "            name = input('Введите наименование товара: ')\n",
    "            COMMANDS[command](name)\n",
    "        else:\n",
    "            COMMANDS[command]()\n",
    "    print()\n",
    "    handle()    \n",
    "handle()    \n"
   ]
  }
 ],
 "metadata": {
  "anaconda-cloud": {},
  "kernelspec": {
   "display_name": "Python [Root]",
   "language": "python",
   "name": "Python [Root]"
  },
  "language_info": {
   "codemirror_mode": {
    "name": "ipython",
    "version": 3
   },
   "file_extension": ".py",
   "mimetype": "text/x-python",
   "name": "python",
   "nbconvert_exporter": "python",
   "pygments_lexer": "ipython3",
   "version": "3.5.2"
  }
 },
 "nbformat": 4,
 "nbformat_minor": 0
}
