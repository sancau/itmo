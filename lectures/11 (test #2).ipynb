{
 "cells": [
  {
   "cell_type": "markdown",
   "metadata": {},
   "source": [
    "# 1"
   ]
  },
  {
   "cell_type": "code",
   "execution_count": 276,
   "metadata": {
    "collapsed": false
   },
   "outputs": [],
   "source": [
    "class MyList:\n",
    "    def __init__(self, collection=[]):\n",
    "        self._collection = collection\n",
    "        \n",
    "    def __str__(self):\n",
    "        return str(self._collection)\n",
    "    \n",
    "    def __len__(self):\n",
    "        return len(self._collection)\n",
    "        \n",
    "    def insert(self, idx, value):\n",
    "        try: \n",
    "            self._collection.insert(idx, value)\n",
    "        except Exception:\n",
    "            return False\n",
    "    \n",
    "    def pop(self, idx=None):\n",
    "        if idx is None:\n",
    "            idx = -1\n",
    "        try:\n",
    "            return self._collection.pop(idx)\n",
    "        except Exception:\n",
    "            return False\n",
    "        \n",
    "    \n",
    "my_list = MyList([1,2,3,4,5])\n",
    "\n",
    "assert str(my_list) == '[1, 2, 3, 4, 5]'\n",
    "assert len(my_list) == 5\n",
    "\n",
    "my_list.insert(0, 42) \n",
    "assert str(my_list) == '[42, 1, 2, 3, 4, 5]'\n",
    "assert my_list.pop() == 5\n",
    "assert my_list.pop(0) == 42\n",
    "assert my_list.pop(100500) == False\n"
   ]
  },
  {
   "cell_type": "markdown",
   "metadata": {},
   "source": [
    "# 2"
   ]
  },
  {
   "cell_type": "code",
   "execution_count": 277,
   "metadata": {
    "collapsed": false
   },
   "outputs": [],
   "source": [
    "class Item:\n",
    "    def __init__(self, name, price):\n",
    "        self._name = name\n",
    "        self._price = price\n",
    "    \n",
    "    def __gt__(first, second):\n",
    "        return first._price > second._price\n",
    "    \n",
    "    def __eq__(first, second):\n",
    "        return first._price == second._price\n",
    "    \n",
    "    def __lt__(first, second):\n",
    "        return first._price < second._price\n",
    "    \n",
    "    def __repr__(self):\n",
    "        return '-'.join([self._name, str(self._price)])\n",
    "\n",
    "items = [Item('one', 42), Item('two', 12), Item('three', 5)]\n",
    "assert str(sorted(items)) == '[three-5, two-12, one-42]'"
   ]
  },
  {
   "cell_type": "markdown",
   "metadata": {},
   "source": [
    "# 3"
   ]
  },
  {
   "cell_type": "code",
   "execution_count": 278,
   "metadata": {
    "collapsed": false
   },
   "outputs": [],
   "source": [
    "def foo(bar):\n",
    "    return bar()\n",
    "\n",
    "class Line:\n",
    "    def __init__(self, x, k=1, b=1):\n",
    "        self._x = x\n",
    "        self._k = k\n",
    "        self._b = b\n",
    "        \n",
    "    def __call__(self):\n",
    "        return self._k * self._x + self._b\n",
    "    \n",
    "line = Line(2)\n",
    "assert foo(line) == 3"
   ]
  },
  {
   "cell_type": "markdown",
   "metadata": {},
   "source": [
    "# 4"
   ]
  },
  {
   "cell_type": "code",
   "execution_count": 279,
   "metadata": {
    "collapsed": false
   },
   "outputs": [
    {
     "data": {
      "text/plain": [
       "['lada', 'russia', 70, 'coupe', 'Electro engine']"
      ]
     },
     "execution_count": 279,
     "metadata": {},
     "output_type": "execute_result"
    }
   ],
   "source": [
    "class Car:\n",
    "    def __init__(self, brand, origin, power, car_type):\n",
    "        self._brand = brand\n",
    "        self._origin = origin\n",
    "        self._power = power\n",
    "        self._car_type = car_type\n",
    "        \n",
    "    def get_info(self):\n",
    "        raise NotImplementedError('This method is pure virtual.')\n",
    "        \n",
    "class ElectroCar(Car):\n",
    "    def __init__(self, brand, origin, power, car_type):\n",
    "        super().__init__(brand, origin, power, car_type)\n",
    "        self._engine_type = 'Electro engine'\n",
    "    \n",
    "    def get_info(self):\n",
    "        return [v for v in \\\n",
    "                [self._brand, self._origin, \n",
    "                 self._power, self._car_type, \n",
    "                 self._engine_type]]\n",
    "    \n",
    "class GasolineCar(Car):\n",
    "    pass\n",
    "    \n",
    "class DeiselCar(Car):\n",
    "    pass\n",
    "\n",
    "\n",
    "e = ElectroCar('lada', 'russia', 70, 'coupe')\n",
    "e.get_info()"
   ]
  },
  {
   "cell_type": "markdown",
   "metadata": {},
   "source": [
    "# 5"
   ]
  },
  {
   "cell_type": "code",
   "execution_count": 286,
   "metadata": {
    "collapsed": false
   },
   "outputs": [],
   "source": [
    "from functools import wraps\n",
    "\n",
    "def to_upper(foo):\n",
    "    @wraps(foo)\n",
    "    def decorator(instance):\n",
    "        return foo(instance).upper()\n",
    "    return decorator\n",
    "\n",
    "class MyString:\n",
    "    def __init__(self, string):\n",
    "        self._string = string\n",
    "        \n",
    "    @to_upper\n",
    "    def get_string(self):\n",
    "        return self._string\n",
    "    \n",
    "my_string = MyString('hello')\n",
    "assert my_string.get_string() == 'HELLO'"
   ]
  },
  {
   "cell_type": "markdown",
   "metadata": {},
   "source": [
    "# 6"
   ]
  },
  {
   "cell_type": "code",
   "execution_count": 281,
   "metadata": {
    "collapsed": false
   },
   "outputs": [],
   "source": [
    "class Bunch:\n",
    "    def __init__(self, data):\n",
    "        self._dict = dict(data)\n",
    "        \n",
    "    def __setattr__(self, attr, value):\n",
    "        if attr == '_dict':\n",
    "            super().__setattr__(attr, value)\n",
    "        else:\n",
    "            self._dict[attr] = value\n",
    "        \n",
    "    def __getattr__(self, attr):\n",
    "        if attr  in ['_dict', 'get']:\n",
    "            super().__getattr__(attr)\n",
    "        else:\n",
    "            return self._dict[attr]\n",
    "        \n",
    "    def __getitem__(self, key):\n",
    "        return self._dict[key]\n",
    "    \n",
    "    def __setitem__(self, key, value):\n",
    "        self._dict[key] = value\n",
    "\n",
    "    def __str__(self):\n",
    "        return str(self._dict)\n",
    "    \n",
    "    def __repr__(self):\n",
    "        return str(self._dict)\n",
    "\n",
    "    def get(self, attr, fallback):\n",
    "        if attr in self._dict:\n",
    "            return self._dict[attr]\n",
    "        else: \n",
    "            return fallback\n",
    "    \n",
    "bunch = Bunch({1: 2})\n",
    "bunch[42] = 42\n",
    "bunch.x = 43\n",
    "bunch.y = 100500\n",
    "\n",
    "assert bunch[1] == 2 \n",
    "assert bunch[42] == 42\n",
    "assert bunch['x'] == 43 \n",
    "assert bunch.x == 43 \n",
    "assert bunch.y == 100500\n",
    "assert bunch.get('no_such_key', False) == False"
   ]
  }
 ],
 "metadata": {
  "kernelspec": {
   "display_name": "Python [Root]",
   "language": "python",
   "name": "Python [Root]"
  },
  "language_info": {
   "codemirror_mode": {
    "name": "ipython",
    "version": 3
   },
   "file_extension": ".py",
   "mimetype": "text/x-python",
   "name": "python",
   "nbconvert_exporter": "python",
   "pygments_lexer": "ipython3",
   "version": "3.5.2"
  }
 },
 "nbformat": 4,
 "nbformat_minor": 0
}
