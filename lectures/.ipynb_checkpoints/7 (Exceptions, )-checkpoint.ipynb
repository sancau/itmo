{
 "cells": [
  {
   "cell_type": "markdown",
   "metadata": {},
   "source": [
    "# Exceptions\n",
    "\n",
    "<ul>\n",
    "    <li> AtributeError </li>\n",
    "    <li> ImportError </li>\n",
    "    <li> TypeError </li>\n",
    "    <li> OverflowError </li>\n",
    "    <li> SyntaxError </li>\n",
    "    <li> FloatingPointError </li>\n",
    "    <li> ZeroDivisionError </li>\n",
    "    <li> etc.. </li>\n",
    "</ul>"
   ]
  },
  {
   "cell_type": "code",
   "execution_count": 120,
   "metadata": {
    "collapsed": false
   },
   "outputs": [
    {
     "name": "stdout",
     "output_type": "stream",
     "text": [
      "Dangerous code\n",
      "No exception occured\n",
      "Finally statement\n"
     ]
    }
   ],
   "source": [
    "try:\n",
    "    print('Dangerous code')\n",
    "    # 5 / 0\n",
    "    # 'string'.append('another_string')\n",
    "    # import unknown_module\n",
    "except ZeroDivisionError as e:\n",
    "    print('Exception description:', e)\n",
    "except AttributeError as e:\n",
    "    print('Exception description:', e)\n",
    "except Exception as e:\n",
    "    print('Some other exception:', e)\n",
    "else:\n",
    "    print('No exception occured')\n",
    "finally:\n",
    "    print('Finally statement')"
   ]
  },
  {
   "cell_type": "markdown",
   "metadata": {},
   "source": [
    "# Classes / OOP"
   ]
  },
  {
   "cell_type": "code",
   "execution_count": 121,
   "metadata": {
    "collapsed": false
   },
   "outputs": [
    {
     "name": "stdout",
     "output_type": "stream",
     "text": [
      "42 42 42\n",
      "<__main__.A object at 0x7f0a9d82bda0>\n",
      "Class B, method a_method\n",
      "I am a_method()\n"
     ]
    },
    {
     "data": {
      "text/plain": [
       "{'a': 42,\n",
       " 'b': 42,\n",
       " 'c': 42,\n",
       " 'dynamic_python': 'Warning',\n",
       " 'y': 'Can set to arbitary names'}"
      ]
     },
     "execution_count": 121,
     "metadata": {},
     "output_type": "execute_result"
    }
   ],
   "source": [
    "# python threats classed like modules\n",
    "\n",
    "GLOBAL_PARAM = True\n",
    "\n",
    "class B:\n",
    "    def a_method(self):\n",
    "        print('Class B, method a_method')\n",
    "\n",
    "class A(B):\n",
    "    def __init__(self, a, b, c):\n",
    "        self.a = a\n",
    "        self.b = b\n",
    "        self.c = c\n",
    "        print(a, b, c)\n",
    "    \n",
    "    if GLOBAL_PARAM:\n",
    "        def a_method(self):\n",
    "            print(self)\n",
    "            super(A, self).a_method() # inwoking super method\n",
    "            print('I am a_method()')\n",
    "    else:\n",
    "        def b_method(self):\n",
    "            print(self)\n",
    "            print('I am b_method()') \n",
    "    \n",
    "    def set_y(self, val):\n",
    "        self.y = val\n",
    "    \n",
    "    _protected = 42\n",
    "    __private = 42\n",
    "\n",
    "\n",
    "a = A(42, 42, 42)\n",
    "\n",
    "a.a_method()\n",
    "\n",
    "a._protected  # can call from outside of the class\n",
    "a._A__private  # cant call directly\n",
    "\n",
    "a.set_y('Can set to arbitary names')\n",
    "a.dynamic_python = 'Warning'\n",
    "\n",
    "vars(a)"
   ]
  },
  {
   "cell_type": "markdown",
   "metadata": {},
   "source": [
    "# ex. 1"
   ]
  },
  {
   "cell_type": "code",
   "execution_count": 54,
   "metadata": {
    "collapsed": false
   },
   "outputs": [
    {
     "data": {
      "text/plain": [
       "((6, 3), (2, 1), 4.47)"
      ]
     },
     "execution_count": 54,
     "metadata": {},
     "output_type": "execute_result"
    }
   ],
   "source": [
    "from math import sqrt\n",
    "\n",
    "\n",
    "class Point:\n",
    "    def __init__(self, x, y):\n",
    "        self.x = x\n",
    "        self.y = y\n",
    "        \n",
    "\n",
    "class Line:\n",
    "    def __init__(self, start, end):\n",
    "        self.start = start\n",
    "        self.end = end\n",
    "        self.length = None\n",
    "    \n",
    "    def get_start_coords(self):\n",
    "        return self.start.x, self.start.y\n",
    "    \n",
    "    def get_end_coords(self):\n",
    "        return self.end.x, self.end.y\n",
    "    \n",
    "    def set_start(self, point):\n",
    "        if self.start.x != point.x or self.start.y != point.y:\n",
    "            self.start = point\n",
    "            self.length = None\n",
    "            \n",
    "    def set_end(self, point):\n",
    "        if self.end.x != point.x or self.end.y != point.y:\n",
    "            self.end = point\n",
    "            self.length = None\n",
    "    \n",
    "    def get_len(self):\n",
    "        if self.length is None:           \n",
    "            a = (self.end.x - self.start.x) ** 2\n",
    "            b = (self.end.y - self.start.y) ** 2\n",
    "            length = sqrt(a + b)\n",
    "            return round(length, 2)\n",
    "        return self.length\n",
    "        \n",
    "line = Line(Point(6, 3), Point(2, 1))\n",
    "\n",
    "line.get_start_coords(), line.get_end_coords(), line.get_len()"
   ]
  },
  {
   "cell_type": "code",
   "execution_count": 55,
   "metadata": {
    "collapsed": false
   },
   "outputs": [
    {
     "data": {
      "text/plain": [
       "((0, 0), (2, 1), 2.24)"
      ]
     },
     "execution_count": 55,
     "metadata": {},
     "output_type": "execute_result"
    }
   ],
   "source": [
    "line.set_start(Point(0, 0))\n",
    "line.get_start_coords(), line.get_end_coords(), line.get_len()"
   ]
  },
  {
   "cell_type": "code",
   "execution_count": 56,
   "metadata": {
    "collapsed": false
   },
   "outputs": [
    {
     "data": {
      "text/plain": [
       "((0, 0), (0, 2), 2.0)"
      ]
     },
     "execution_count": 56,
     "metadata": {},
     "output_type": "execute_result"
    }
   ],
   "source": [
    "line.set_end(Point(0, 2))\n",
    "line.get_start_coords(), line.get_end_coords(), line.get_len()"
   ]
  },
  {
   "cell_type": "code",
   "execution_count": 58,
   "metadata": {
    "collapsed": false
   },
   "outputs": [
    {
     "data": {
      "text/plain": [
       "((0, 0), (0, 2), 2.0)"
      ]
     },
     "execution_count": 58,
     "metadata": {},
     "output_type": "execute_result"
    }
   ],
   "source": [
    "line.set_end(Point(0, 2))\n",
    "line.get_start_coords(), line.get_end_coords(), line.get_len()"
   ]
  }
 ],
 "metadata": {
  "anaconda-cloud": {},
  "kernelspec": {
   "display_name": "Python [Root]",
   "language": "python",
   "name": "Python [Root]"
  },
  "language_info": {
   "codemirror_mode": {
    "name": "ipython",
    "version": 3
   },
   "file_extension": ".py",
   "mimetype": "text/x-python",
   "name": "python",
   "nbconvert_exporter": "python",
   "pygments_lexer": "ipython3",
   "version": "3.5.2"
  }
 },
 "nbformat": 4,
 "nbformat_minor": 0
}
