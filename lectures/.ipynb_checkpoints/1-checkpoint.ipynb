{
 "cells": [
  {
   "cell_type": "markdown",
   "metadata": {},
   "source": [
    "# ex. 1"
   ]
  },
  {
   "cell_type": "code",
   "execution_count": null,
   "metadata": {
    "collapsed": false
   },
   "outputs": [],
   "source": [
    "def handle():\n",
    "    bill = input('Enter the bill sum \\n')\n",
    "    if bill:\n",
    "        try: \n",
    "            res = get_total(float(bill))\n",
    "            print('Total is {}'.format(res))\n",
    "        except ValueError as e:\n",
    "            print('Error. Enter a valid number.')\n",
    "            handle()\n",
    "\n",
    "def get_total(bill):\n",
    "    if bill > 100:\n",
    "        return bill * 1.2\n",
    "    elif bill > 50:\n",
    "        return bill * 1.15\n",
    "    elif bill > 25:\n",
    "        return bill * 1.12\n",
    "    \n",
    "    return bill * 1.1\n",
    "\n",
    "handle()"
   ]
  },
  {
   "cell_type": "markdown",
   "metadata": {},
   "source": [
    "# ex. 2"
   ]
  },
  {
   "cell_type": "code",
   "execution_count": null,
   "metadata": {
    "collapsed": false
   },
   "outputs": [],
   "source": [
    "def handle():\n",
    "    k, b, x = 1, 7, 4\n",
    "\n",
    "    key = input('Введите имя переменной (k, b) или число \\n')\n",
    "    \n",
    "    if key.isdigit():\n",
    "        calc(k, b, int(key))\n",
    "    \n",
    "    elif key == 'k':\n",
    "        k = input('Введите значение k: ')\n",
    "        if k.isdigit():\n",
    "            k = int(k)\n",
    "            calc(k, b, x)\n",
    "\n",
    "    elif key == 'b':\n",
    "        b = input('Введите значение b: ')\n",
    "        if b.isdigit():\n",
    "            b = int(b)\n",
    "            calc(k, b, x)        \n",
    "    else:\n",
    "        print('Некорректный ввод')\n",
    "        handle()\n",
    "\n",
    "def calc(k, b, x):\n",
    "    res = k*x + b\n",
    "    print('Результат: ', res, '\\n')\n",
    "    handle()\n",
    "    \n",
    "handle()"
   ]
  }
 ],
 "metadata": {
  "kernelspec": {
   "display_name": "Python [Root]",
   "language": "python",
   "name": "Python [Root]"
  },
  "language_info": {
   "codemirror_mode": {
    "name": "ipython",
    "version": 3
   },
   "file_extension": ".py",
   "mimetype": "text/x-python",
   "name": "python",
   "nbconvert_exporter": "python",
   "pygments_lexer": "ipython3",
   "version": "3.5.2"
  }
 },
 "nbformat": 4,
 "nbformat_minor": 0
}
