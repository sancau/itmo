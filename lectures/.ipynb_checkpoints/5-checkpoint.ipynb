{
 "cells": [
  {
   "cell_type": "markdown",
   "metadata": {},
   "source": [
    "# scopes"
   ]
  },
  {
   "cell_type": "code",
   "execution_count": 13,
   "metadata": {
    "collapsed": false
   },
   "outputs": [
    {
     "name": "stdout",
     "output_type": "stream",
     "text": [
      "10\n",
      "42\n"
     ]
    }
   ],
   "source": [
    "a = 42\n",
    "\n",
    "def bar():\n",
    "    a = 0\n",
    "    def foo():\n",
    "        nonlocal a\n",
    "        a = 10\n",
    "    foo()\n",
    "    return a\n",
    "\n",
    "print(bar())\n",
    "print(a)"
   ]
  },
  {
   "cell_type": "code",
   "execution_count": 16,
   "metadata": {
    "collapsed": false
   },
   "outputs": [
    {
     "name": "stdout",
     "output_type": "stream",
     "text": [
      "52\n",
      "52\n"
     ]
    }
   ],
   "source": [
    "a = 42\n",
    "\n",
    "def foo():\n",
    "    global a\n",
    "    a = 52\n",
    "    return a\n",
    "    \n",
    "print(foo())\n",
    "print(a)"
   ]
  },
  {
   "cell_type": "code",
   "execution_count": 44,
   "metadata": {
    "collapsed": false
   },
   "outputs": [
    {
     "name": "stdout",
     "output_type": "stream",
     "text": [
      "foo ->  42\n",
      "bar ->  52\n",
      "foo ->  52\n",
      "global ->  0\n"
     ]
    }
   ],
   "source": [
    "a = 0\n",
    "\n",
    "def foo():\n",
    "    a = 42\n",
    "    print('foo -> ', a)\n",
    "    def bar():\n",
    "        nonlocal a\n",
    "        a = 52\n",
    "        print('bar -> ', a)\n",
    "    bar()\n",
    "    print('foo -> ', a)\n",
    "foo()\n",
    "print('global -> ', a)"
   ]
  },
  {
   "cell_type": "markdown",
   "metadata": {},
   "source": [
    "# recursion  (Alonso Church -> lambdas...)"
   ]
  },
  {
   "cell_type": "code",
   "execution_count": 49,
   "metadata": {
    "collapsed": false
   },
   "outputs": [
    {
     "data": {
      "text/plain": [
       "11978571669969891796072783721689098736458938142546425857555362864628009582789845319680000000000000000"
      ]
     },
     "execution_count": 49,
     "metadata": {},
     "output_type": "execute_result"
    }
   ],
   "source": [
    "def fact(n):\n",
    "    if n == 0:\n",
    "        return 1\n",
    "    return n * fact(n - 1)\n",
    "\n",
    "fact(70)"
   ]
  },
  {
   "cell_type": "markdown",
   "metadata": {},
   "source": [
    "# ex. 1"
   ]
  },
  {
   "cell_type": "code",
   "execution_count": 181,
   "metadata": {
    "collapsed": false
   },
   "outputs": [
    {
     "name": "stdout",
     "output_type": "stream",
     "text": [
      "builtins:  286 False\n",
      "custom:  286 False\n"
     ]
    }
   ],
   "source": [
    "from random import randint\n",
    "\n",
    "xs = sorted([randint(1, 1000) for i in range(100)] + [2000, 3000])\n",
    "xs = [i for i in xs if xs.count(i) == 1]\n",
    "\n",
    "def in_list(el, l):\n",
    "    if not l:\n",
    "        return False\n",
    "    \n",
    "    if len(l) // 2 == 0:\n",
    "        for i in l:\n",
    "            if i == el:\n",
    "                return True\n",
    "            else:\n",
    "                return False\n",
    "\n",
    "    index = len(l) // 2\n",
    "    guess = l[index]\n",
    "    if guess == el:\n",
    "        return True \n",
    "    elif el > guess:\n",
    "        right_slice = l[index+1:]\n",
    "        return in_list(el, right_slice)\n",
    "    else:\n",
    "        left_slice = l[:index]\n",
    "        return in_list(el, left_slice)            \n",
    "    \n",
    "n = randint(0, 1000)\n",
    "print('builtins: ', n, n in xs)    \n",
    "res = in_list(n, xs)\n",
    "print('custom: ', n, res)"
   ]
  },
  {
   "cell_type": "markdown",
   "metadata": {},
   "source": [
    "# ex. 2"
   ]
  },
  {
   "cell_type": "code",
   "execution_count": 96,
   "metadata": {
    "collapsed": false
   },
   "outputs": [
    {
     "name": "stdout",
     "output_type": "stream",
     "text": [
      "helloworldwithnoseparatorsandnothingatall!\n",
      "\n",
      "********************************************************************************\n",
      "\n",
      "['0 0', '1 0', '2 0', '3 0', '4 0', '5 0']\n",
      "['0 1', '1 1', '2 1', '3 1', '4 1', '5 1']\n",
      "['0 2', '1 2', '2 2', '3 2', '4 2', '5 2']\n",
      "['0 3', '1 3', '2 3', '3 3', '4 3', '5 3']\n",
      "['0 4', '1 4', '2 4', '3 4', '4 4', '5 4']\n",
      "['0 5', '1 5', '2 5', '3 5', '4 5', '5 5']\n",
      "['0 6', '1 6', '2 6', '3 6', '4 6', '5 6']\n",
      "\n",
      "********************************************************************************\n",
      "\n",
      "Matrix is too small for the sting\n",
      "['h', 'e', 'l', 'l', 'o', 'w']\n",
      "['o', 'r', 'l', 'd', 'w', 'i']\n",
      "['t', 'h', 'n', 'o', 's', 'e']\n",
      "['p', 'a', 'r', 'a', 't', 'o']\n",
      "['r', 's', 'a', 'n', 'd', 'n']\n",
      "['o', 't', 'h', 'i', 'n', 'g']\n",
      "['a', 't', 'a', 'l', 'l', '!']\n"
     ]
    }
   ],
   "source": [
    "# string = ''.join([str(i) for i in range(1, 10)] * 10) \n",
    "string = 'helloworldwithnoseparatorsandnothingatall!'\n",
    "\n",
    "X = 6\n",
    "Y = 7\n",
    "\n",
    "matrix = [[str(x) + ' ' + str(y) for x in range(X)] for y in range(Y)] \n",
    "\n",
    "\n",
    "def print_separator():\n",
    "    print()\n",
    "    print('*' * 80)\n",
    "    print()\n",
    "\n",
    "    \n",
    "def print_matrix(matrix):\n",
    "    for line in matrix:\n",
    "        print(line)\n",
    "\n",
    "        \n",
    "def fill_matrix(matrix, string):\n",
    "    \n",
    "    x = 0\n",
    "    y = 0\n",
    "    \n",
    "    for ch in string:\n",
    "        matrix[y][x] = ch\n",
    "        try:\n",
    "            matrix[y][x+1]  \n",
    "            x += 1\n",
    "        except IndexError:\n",
    "            x = 0\n",
    "            if len(matrix) > y + 1:\n",
    "                y += 1\n",
    "            else:\n",
    "                print('Matrix is too small for the sting')\n",
    "                break\n",
    "    \n",
    "    return matrix\n",
    "\n",
    "\n",
    "print(string)\n",
    "print_separator()\n",
    "print_matrix(matrix)  # print initial matrix\n",
    "print_separator()\n",
    "\n",
    "matrix = fill_matrix(matrix, string)  # filled matrix    \n",
    "print_matrix(matrix)"
   ]
  },
  {
   "cell_type": "markdown",
   "metadata": {},
   "source": [
    "# bubble sorting"
   ]
  },
  {
   "cell_type": "code",
   "execution_count": 193,
   "metadata": {
    "collapsed": false
   },
   "outputs": [
    {
     "name": "stdout",
     "output_type": "stream",
     "text": [
      "[910, 195, 684, 328, 511, 13, 363, 326, 175, 335]\n"
     ]
    },
    {
     "data": {
      "text/plain": [
       "[13, 175, 195, 326, 328, 335, 363, 511, 684, 910]"
      ]
     },
     "execution_count": 193,
     "metadata": {},
     "output_type": "execute_result"
    }
   ],
   "source": [
    "from random import randint\n",
    "xs = [randint(0, 1000) for i in range(10)]\n",
    "\n",
    "def bubble_sort(lst):\n",
    "    for i in range(len(lst) - 1):\n",
    "        j = 0\n",
    "        while j < len(lst) - i - 1:\n",
    "            if lst[j] > lst[j + 1]:\n",
    "                lst[j], lst[j + 1] = lst[j + 1], lst[j]\n",
    "            j += 1\n",
    "    return lst\n",
    "        \n",
    "print(xs)\n",
    "bubble_sort(xs)"
   ]
  },
  {
   "cell_type": "markdown",
   "metadata": {},
   "source": [
    "# L1, L2, L3, Judy-arrays\n",
    "# сортировка Хоара\n",
    "# сортировака слиянием\n",
    "# порязрядная сортировка"
   ]
  },
  {
   "cell_type": "markdown",
   "metadata": {},
   "source": [
    "# ex. 3"
   ]
  },
  {
   "cell_type": "code",
   "execution_count": 205,
   "metadata": {
    "collapsed": false
   },
   "outputs": [
    {
     "data": {
      "text/plain": [
       "'longest'"
      ]
     },
     "execution_count": 205,
     "metadata": {},
     "output_type": "execute_result"
    }
   ],
   "source": [
    "string = 'it looks for the longest word in a string'\n",
    "\n",
    "def get_longest(string):\n",
    "    words = string.split()\n",
    "    data = [(len(word), index) for index, word in enumerate(string.split())]\n",
    "    index = max(data)[1]\n",
    "    return words[index]\n",
    "    \n",
    "get_longest(string)"
   ]
  }
 ],
 "metadata": {
  "anaconda-cloud": {},
  "kernelspec": {
   "display_name": "Python [Root]",
   "language": "python",
   "name": "Python [Root]"
  },
  "language_info": {
   "codemirror_mode": {
    "name": "ipython",
    "version": 3
   },
   "file_extension": ".py",
   "mimetype": "text/x-python",
   "name": "python",
   "nbconvert_exporter": "python",
   "pygments_lexer": "ipython3",
   "version": "3.5.2"
  }
 },
 "nbformat": 4,
 "nbformat_minor": 0
}
