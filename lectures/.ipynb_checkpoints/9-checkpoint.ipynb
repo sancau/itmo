{
 "cells": [
  {
   "cell_type": "markdown",
   "metadata": {},
   "source": [
    "# Decorators"
   ]
  },
  {
   "cell_type": "code",
   "execution_count": 128,
   "metadata": {
    "collapsed": false
   },
   "outputs": [],
   "source": [
    "from functools import wraps\n",
    "\n",
    "def decorator(fn):\n",
    "    @wraps(fn)\n",
    "    def foo(*args, **kwargs):\n",
    "        print(args, kwargs)\n",
    "        fn()\n",
    "        print('decorated')\n",
    "    return foo"
   ]
  },
  {
   "cell_type": "code",
   "execution_count": 129,
   "metadata": {
    "collapsed": true
   },
   "outputs": [],
   "source": [
    "@decorator\n",
    "def test():\n",
    "    print('fn')"
   ]
  },
  {
   "cell_type": "code",
   "execution_count": 130,
   "metadata": {
    "collapsed": false
   },
   "outputs": [
    {
     "name": "stdout",
     "output_type": "stream",
     "text": [
      "(42,) {'k': 'value'}\n",
      "fn\n",
      "decorated\n"
     ]
    }
   ],
   "source": [
    "test(42, k='value')"
   ]
  },
  {
   "cell_type": "code",
   "execution_count": 147,
   "metadata": {
    "collapsed": false
   },
   "outputs": [
    {
     "data": {
      "text/plain": [
       "3"
      ]
     },
     "execution_count": 147,
     "metadata": {},
     "output_type": "execute_result"
    }
   ],
   "source": [
    "# math ring\n",
    "def shift(value, offset, minimum, maximum):\n",
    "    k = 1 if offset >= 0 else -1\n",
    "    shifted = value\n",
    "    for i in range(abs(offset)):\n",
    "        shifted += k\n",
    "        if shifted > maximum:\n",
    "            shifted = minimum\n",
    "        if shifted < minimum:\n",
    "            shifted = maximum\n",
    "    return shifted\n",
    "\n",
    "shift(2, -5, 0, 5)"
   ]
  },
  {
   "cell_type": "markdown",
   "metadata": {},
   "source": [
    "# Inheritance"
   ]
  },
  {
   "cell_type": "code",
   "execution_count": 192,
   "metadata": {
    "collapsed": false
   },
   "outputs": [
    {
     "name": "stdout",
     "output_type": "stream",
     "text": [
      "custom print for A \n",
      " custom print for B\n"
     ]
    },
    {
     "data": {
      "text/plain": [
       "('A', 'B', 43, 'test')"
      ]
     },
     "execution_count": 192,
     "metadata": {},
     "output_type": "execute_result"
    }
   ],
   "source": [
    "class Base:\n",
    "    def __init__(self):\n",
    "        self.test = 'test'\n",
    "\n",
    "class A(Base):\n",
    "    def __init__(self, arg):\n",
    "        super().__init__()\n",
    "        self.arg = arg\n",
    "    \n",
    "    @classmethod\n",
    "    def name(cls):\n",
    "        return cls.__name__\n",
    "\n",
    "    def __str__(self):\n",
    "        return 'custom print for {cls}'.format(\n",
    "                        cls=self.__class__.__name__)\n",
    "    \n",
    "class B(A):\n",
    "    def __init__(self, arg):\n",
    "        super().__init__(arg)\n",
    "\n",
    "a = A(42)\n",
    "b = B(43)\n",
    "print(a, '\\n', b)\n",
    "a.name(), b.name(), b.arg, b.test"
   ]
  },
  {
   "cell_type": "code",
   "execution_count": 185,
   "metadata": {
    "collapsed": false
   },
   "outputs": [],
   "source": [
    "class Shape:\n",
    "    def __init__(self, color='white'):\n",
    "        self._color = color\n",
    "    \n",
    "    def get_color(self):\n",
    "        return self._color\n",
    "    \n",
    "class Cirle(Shape):\n",
    "    pass\n",
    "\n",
    "class Square(Shape):\n",
    "    pass\n",
    "        \n"
   ]
  },
  {
   "cell_type": "code",
   "execution_count": 187,
   "metadata": {
    "collapsed": false
   },
   "outputs": [
    {
     "data": {
      "text/plain": [
       "'white'"
      ]
     },
     "execution_count": 187,
     "metadata": {},
     "output_type": "execute_result"
    }
   ],
   "source": [
    "shape = Shape()\n",
    "shape.get_color()"
   ]
  },
  {
   "cell_type": "code",
   "execution_count": 188,
   "metadata": {
    "collapsed": false
   },
   "outputs": [
    {
     "data": {
      "text/plain": [
       "'green'"
      ]
     },
     "execution_count": 188,
     "metadata": {},
     "output_type": "execute_result"
    }
   ],
   "source": [
    "c = Cirle('green')\n",
    "c.get_color()"
   ]
  },
  {
   "cell_type": "code",
   "execution_count": 189,
   "metadata": {
    "collapsed": false
   },
   "outputs": [
    {
     "data": {
      "text/plain": [
       "'blue'"
      ]
     },
     "execution_count": 189,
     "metadata": {},
     "output_type": "execute_result"
    }
   ],
   "source": [
    "s = Square('blue')\n",
    "s.get_color()"
   ]
  },
  {
   "cell_type": "markdown",
   "metadata": {
    "collapsed": true
   },
   "source": [
    "# Клеточный автомат\n",
    "# Игра жизнь"
   ]
  },
  {
   "cell_type": "code",
   "execution_count": null,
   "metadata": {
    "collapsed": true
   },
   "outputs": [],
   "source": []
  }
 ],
 "metadata": {
  "kernelspec": {
   "display_name": "Python [Root]",
   "language": "python",
   "name": "Python [Root]"
  },
  "language_info": {
   "codemirror_mode": {
    "name": "ipython",
    "version": 3
   },
   "file_extension": ".py",
   "mimetype": "text/x-python",
   "name": "python",
   "nbconvert_exporter": "python",
   "pygments_lexer": "ipython3",
   "version": "3.5.2"
  }
 },
 "nbformat": 4,
 "nbformat_minor": 0
}
