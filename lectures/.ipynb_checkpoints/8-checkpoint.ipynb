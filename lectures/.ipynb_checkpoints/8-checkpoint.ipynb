{
 "cells": [
  {
   "cell_type": "code",
   "execution_count": 163,
   "metadata": {
    "collapsed": true
   },
   "outputs": [],
   "source": [
    "class Line:\n",
    "    def __init__(self, k, b):\n",
    "        self.__k = k\n",
    "        self.__b = b\n",
    "    \n",
    "    def get_x_by_y(self, *, y):\n",
    "        return (y - self.__b) / self.__k\n",
    "    \n",
    "    def get_y_by_x(self, *, x):\n",
    "        return self.__k * x + self.__b\n",
    "        "
   ]
  },
  {
   "cell_type": "code",
   "execution_count": 164,
   "metadata": {
    "collapsed": false
   },
   "outputs": [],
   "source": [
    "line = Line(1, 1)\n",
    "\n",
    "assert line.get_x_by_y(y=7) == 6\n",
    "assert line.get_y_by_x(x=7) == 8"
   ]
  },
  {
   "cell_type": "markdown",
   "metadata": {},
   "source": [
    "# Stack"
   ]
  },
  {
   "cell_type": "code",
   "execution_count": 165,
   "metadata": {
    "collapsed": true
   },
   "outputs": [],
   "source": [
    "class Stack:\n",
    "    def __init__(self, initial_collection=[], max_capacity=100):\n",
    "        self.__stack = initial_collection\n",
    "        self.__max_capacity = max_capacity\n",
    "        \n",
    "    def pop(self):\n",
    "        return self.__stack.pop()\n",
    "    \n",
    "    def push(self, value):\n",
    "        if len(self.__stack) < self.__max_capacity:\n",
    "            self.__stack.append(value)\n",
    "        else:\n",
    "            return False\n",
    "            \n",
    "    def top(self):\n",
    "        return self.__stack[-1]"
   ]
  },
  {
   "cell_type": "code",
   "execution_count": 166,
   "metadata": {
    "collapsed": true
   },
   "outputs": [],
   "source": [
    "stack = Stack(initial_collection=[1,2,3,4], max_capacity=10)"
   ]
  },
  {
   "cell_type": "code",
   "execution_count": 167,
   "metadata": {
    "collapsed": false
   },
   "outputs": [
    {
     "name": "stdout",
     "output_type": "stream",
     "text": [
      "[1, 2, 3]\n"
     ]
    }
   ],
   "source": [
    "stack.pop()\n",
    "print(stack._Stack__stack)"
   ]
  },
  {
   "cell_type": "code",
   "execution_count": 168,
   "metadata": {
    "collapsed": false
   },
   "outputs": [
    {
     "name": "stdout",
     "output_type": "stream",
     "text": [
      "[1, 2, 3, 'asd']\n"
     ]
    }
   ],
   "source": [
    "stack.push('asd')\n",
    "print(stack._Stack__stack)"
   ]
  },
  {
   "cell_type": "code",
   "execution_count": 169,
   "metadata": {
    "collapsed": false
   },
   "outputs": [
    {
     "data": {
      "text/plain": [
       "'asd'"
      ]
     },
     "execution_count": 169,
     "metadata": {},
     "output_type": "execute_result"
    }
   ],
   "source": [
    "stack.top()"
   ]
  },
  {
   "cell_type": "markdown",
   "metadata": {},
   "source": [
    "# Queue"
   ]
  },
  {
   "cell_type": "code",
   "execution_count": 170,
   "metadata": {
    "collapsed": true
   },
   "outputs": [],
   "source": [
    "class Queue:\n",
    "    def __init__(self, size=100):\n",
    "        self.__data = []\n",
    "        self.__size = size\n",
    "        \n",
    "    def push(self, value):\n",
    "        if len(self.__data) < self.__size:\n",
    "            self.__data.insert(0, value)\n",
    "            \n",
    "    def pop(self):\n",
    "        if self.__data:\n",
    "            return self.__data.pop()\n",
    "    \n",
    "    def top(self):\n",
    "        if self.__data:\n",
    "            return self.__data[-1]"
   ]
  },
  {
   "cell_type": "code",
   "execution_count": 171,
   "metadata": {
    "collapsed": false
   },
   "outputs": [
    {
     "data": {
      "text/plain": [
       "'asd'"
      ]
     },
     "execution_count": 171,
     "metadata": {},
     "output_type": "execute_result"
    }
   ],
   "source": [
    "q = Queue()\n",
    "q.push('asd')\n",
    "q.top()"
   ]
  },
  {
   "cell_type": "code",
   "execution_count": 172,
   "metadata": {
    "collapsed": false
   },
   "outputs": [
    {
     "data": {
      "text/plain": [
       "'asd'"
      ]
     },
     "execution_count": 172,
     "metadata": {},
     "output_type": "execute_result"
    }
   ],
   "source": [
    "q.push('asd')\n",
    "q.push(42)\n",
    "q.top()"
   ]
  },
  {
   "cell_type": "code",
   "execution_count": 173,
   "metadata": {
    "collapsed": false
   },
   "outputs": [
    {
     "data": {
      "text/plain": [
       "'asd'"
      ]
     },
     "execution_count": 173,
     "metadata": {},
     "output_type": "execute_result"
    }
   ],
   "source": [
    "q.pop()\n",
    "q.top()"
   ]
  },
  {
   "cell_type": "code",
   "execution_count": 174,
   "metadata": {
    "collapsed": true
   },
   "outputs": [],
   "source": [
    "# Односвязный список [node] -> [node] -> [node]\n",
    "# Двусвязный список [node] <-> [node] <-> [node]\n",
    "# Дерево - 'список' хранящий два и более указателя\n",
    "# Бинарное дерево -> хранит две ссылки\n",
    "# Сложность поиска в бинарном дереве log(n) по высоте\n",
    "\n",
    "# wiki -> красно-черное дерево, B-дерево, AVL-дерево\n",
    "# Роберт Седжвик - стуктуры данных \\ алгоритмы\n",
    "\n",
    "# сделать дерево (д.з)"
   ]
  },
  {
   "cell_type": "code",
   "execution_count": 175,
   "metadata": {
    "collapsed": false
   },
   "outputs": [],
   "source": [
    "class Tree:\n",
    "    def __init__(self):\n",
    "        pass\n",
    "    \n",
    "    def add(self, value):\n",
    "        pass\n",
    "    \n",
    "    def search(self, value):\n",
    "        pass\n",
    "\n",
    "class Node:\n",
    "    def __init__(self, payload, left, right):\n",
    "        self.payload = payload\n",
    "        self.left = left\n",
    "        self.right = right\n",
    "\n",
    "        "
   ]
  },
  {
   "cell_type": "markdown",
   "metadata": {},
   "source": [
    "# Обратная польская запись - калькулятор (арифмический)\n",
    "# Реализовать дерево - поиск, добавление, удаление"
   ]
  },
  {
   "cell_type": "code",
   "execution_count": null,
   "metadata": {
    "collapsed": true
   },
   "outputs": [],
   "source": []
  },
  {
   "cell_type": "markdown",
   "metadata": {},
   "source": [
    "# Operator overload"
   ]
  },
  {
   "cell_type": "code",
   "execution_count": 245,
   "metadata": {
    "collapsed": false
   },
   "outputs": [],
   "source": [
    "class Number:\n",
    "    def __init__(self, value):\n",
    "        self.value = value\n",
    "    \n",
    "    def __add__(self, second):\n",
    "        return Number(self.value + second.value)\n",
    "       \n",
    "    def __repr__(self):\n",
    "        return 'Custom number with value: {}'.format(self.value)"
   ]
  },
  {
   "cell_type": "code",
   "execution_count": 246,
   "metadata": {
    "collapsed": false
   },
   "outputs": [
    {
     "data": {
      "text/plain": [
       "Custom number with value: 179"
      ]
     },
     "execution_count": 246,
     "metadata": {},
     "output_type": "execute_result"
    }
   ],
   "source": [
    "Number(12) + Number(67) + Number(100)"
   ]
  },
  {
   "cell_type": "code",
   "execution_count": null,
   "metadata": {
    "collapsed": true
   },
   "outputs": [],
   "source": []
  }
 ],
 "metadata": {
  "anaconda-cloud": {},
  "kernelspec": {
   "display_name": "Python [Root]",
   "language": "python",
   "name": "Python [Root]"
  },
  "language_info": {
   "codemirror_mode": {
    "name": "ipython",
    "version": 3
   },
   "file_extension": ".py",
   "mimetype": "text/x-python",
   "name": "python",
   "nbconvert_exporter": "python",
   "pygments_lexer": "ipython3",
   "version": "3.5.2"
  }
 },
 "nbformat": 4,
 "nbformat_minor": 0
}
